{
 "cells": [
  {
   "cell_type": "code",
   "execution_count": 1,
   "metadata": {},
   "outputs": [],
   "source": [
    "%matplotlib inline\n",
    "import numpy as np\n",
    "import pandas as pd\n",
    "import quandl\n",
    "quandl.ApiConfig.api_key = \"Kgpye7yuU-i451Hm98B-\"\n",
    "\n",
    "import numpy as np\n",
    "import matplotlib.pyplot as plt\n",
    "import cvxopt as opt\n",
    "from cvxopt import blas, solvers\n",
    "import pandas as pd"
   ]
  },
  {
   "cell_type": "code",
   "execution_count": 2,
   "metadata": {},
   "outputs": [],
   "source": [
    "import yfinance as yf\n",
    "import datetime\n",
    "tickerData = yf.Ticker('TWTR')\n",
    "start_date='2018-1-1'\n",
    "end_date='2021-1-10'\n",
    "#get the historical prices for this ticker\n",
    "tickerDf = tickerData.history(period='1d', start='2018-1-1', \n",
    "                              end='2021-1-10', auto_adjust = True)\n",
    "all_close = pd.DataFrame(tickerDf['Close'].pct_change())\n",
    "all_close.columns = ['TWTR']\n",
    "\n",
    "ticker_list = ['TSLA', 'AAPL', 'FB',\n",
    "              'GOOGL', 'BABA', 'NFLX','AMZN',\n",
    "              'BIDU', 'NVDA']\n",
    "\n",
    "for ticker in ticker_list:\n",
    "\n",
    "    #get data on this ticker\n",
    "    tickerData = yf.Ticker(ticker)\n",
    "\n",
    "    #get the historical prices for this ticker\n",
    "    tickerDf = tickerData.history(period='1d', start='2018-1-1', \n",
    "                                  end='2021-1-10', auto_adjust = True)\n",
    "\n",
    "    all_close[ticker] = tickerDf['Close'].pct_change()\n",
    "    \n",
    "# all_close[[\"USDOLLAR\"]]=quandl.get('FRED/DTB3', start_date=start_date, end_date=end_date)/(250*100)\n",
    "all_close = all_close.fillna(method='ffill').iloc[1:]\n",
    "\n",
    "all_close = all_close.loc[datetime.date(year=2020,month=9,day=10):datetime.date(year=2021,month=1,day=10)]"
   ]
  },
  {
   "cell_type": "code",
   "execution_count": 3,
   "metadata": {},
   "outputs": [],
   "source": [
    "def rand_weights(n):\n",
    "    ''' Produces n random weights that sum to 1 '''\n",
    "    k = np.random.rand(n)\n",
    "    return k / sum(k)"
   ]
  },
  {
   "cell_type": "code",
   "execution_count": 4,
   "metadata": {},
   "outputs": [],
   "source": [
    "def random_portfolio(returns):\n",
    "    ''' \n",
    "    Returns the mean and standard deviation of returns for a random portfolio\n",
    "    '''\n",
    "\n",
    "    p = np.asmatrix(np.mean(returns, axis=1))\n",
    "    w = np.asmatrix(rand_weights(returns.shape[0]))\n",
    "    C = np.asmatrix(np.cov(returns))\n",
    "    \n",
    "    mu = w * p.T\n",
    "    sigma = np.sqrt(w * C * w.T)\n",
    "    \n",
    "    # This recursion reduces outliers to keep plots pretty\n",
    "    if sigma > 2:\n",
    "        return random_portfolio(returns)\n",
    "    return mu, sigma"
   ]
  },
  {
   "cell_type": "code",
   "execution_count": 5,
   "metadata": {},
   "outputs": [],
   "source": [
    "def portfolio_annualised_performance(weights, mean_returns, cov_matrix):\n",
    "    returns = np.sum(mean_returns*weights ) *252\n",
    "    std = np.sqrt(np.dot(weights.T, np.dot(cov_matrix, weights))) * np.sqrt(252)\n",
    "    return std, returns"
   ]
  },
  {
   "cell_type": "code",
   "execution_count": 6,
   "metadata": {},
   "outputs": [],
   "source": [
    "def random_portfolios(num_portfolios, mean_returns, cov_matrix, risk_free_rate):\n",
    "    results = np.zeros((3,num_portfolios))\n",
    "    weights_record = []\n",
    "    for i in range(num_portfolios):\n",
    "        weights = np.random.random(10)\n",
    "        weights /= np.sum(weights)\n",
    "        weights_record.append(weights)\n",
    "        portfolio_std_dev, portfolio_return = portfolio_annualised_performance(weights, mean_returns, cov_matrix)\n",
    "        results[0,i] = portfolio_std_dev\n",
    "        results[1,i] = portfolio_return\n",
    "        results[2,i] = (portfolio_return - risk_free_rate) / portfolio_std_dev\n",
    "    return results, weights_record"
   ]
  },
  {
   "cell_type": "code",
   "execution_count": 7,
   "metadata": {},
   "outputs": [],
   "source": [
    "def neg_sharpe_ratio(weights, mean_returns, cov_matrix, risk_free_rate):\n",
    "    p_var, p_ret = portfolio_annualised_performance(weights, mean_returns, cov_matrix)\n",
    "    return -(p_ret - risk_free_rate) / p_var\n",
    "\n",
    "def max_sharpe_ratio(mean_returns, cov_matrix, risk_free_rate):\n",
    "    num_assets = len(mean_returns)\n",
    "    args = (mean_returns, cov_matrix, risk_free_rate)\n",
    "    constraints = ({'type': 'eq', 'fun': lambda x: np.sum(x) - 1})\n",
    "    bound = (0.0,1.0)\n",
    "    bounds = tuple(bound for asset in range(num_assets))\n",
    "    result = sco.minimize(neg_sharpe_ratio, num_assets*[1./num_assets,], args=args,\n",
    "                        method='SLSQP', bounds=bounds, constraints=constraints)\n",
    "    return result"
   ]
  },
  {
   "cell_type": "code",
   "execution_count": 8,
   "metadata": {},
   "outputs": [],
   "source": [
    "def portfolio_volatility(weights, mean_returns, cov_matrix):\n",
    "    return portfolio_annualised_performance(weights, mean_returns, cov_matrix)[0]\n",
    "\n",
    "def min_variance(mean_returns, cov_matrix):\n",
    "    num_assets = len(mean_returns)\n",
    "    args = (mean_returns, cov_matrix)\n",
    "    constraints = ({'type': 'eq', 'fun': lambda x: np.sum(x) - 1})\n",
    "    bound = (0.0,1.0)\n",
    "    bounds = tuple(bound for asset in range(num_assets))\n",
    "\n",
    "    result = sco.minimize(portfolio_volatility, num_assets*[1./num_assets,], args=args,\n",
    "                        method='SLSQP', bounds=bounds, constraints=constraints)\n",
    "\n",
    "    return result"
   ]
  },
  {
   "cell_type": "code",
   "execution_count": 9,
   "metadata": {},
   "outputs": [],
   "source": [
    "def efficient_return(mean_returns, cov_matrix, target):\n",
    "    num_assets = len(mean_returns)\n",
    "    args = (mean_returns, cov_matrix)\n",
    "\n",
    "    def portfolio_return(weights):\n",
    "        return portfolio_annualised_performance(weights, mean_returns, cov_matrix)[1]\n",
    "\n",
    "    constraints = ({'type': 'eq', 'fun': lambda x: portfolio_return(x) - target},\n",
    "                   {'type': 'eq', 'fun': lambda x: np.sum(x) - 1})\n",
    "    bounds = tuple((0,1) for asset in range(num_assets))\n",
    "    result = sco.minimize(portfolio_volatility, num_assets*[1./num_assets,], args=args, \n",
    "                          method='SLSQP', bounds=bounds, constraints=constraints)\n",
    "    return result\n",
    "\n",
    "\n",
    "def efficient_frontier(mean_returns, cov_matrix, returns_range):\n",
    "    efficients = []\n",
    "    for ret in returns_range:\n",
    "        efficients.append(efficient_return(mean_returns, cov_matrix, ret))\n",
    "    return efficients"
   ]
  },
  {
   "cell_type": "code",
   "execution_count": 10,
   "metadata": {},
   "outputs": [],
   "source": [
    "returns = all_close\n",
    "mean_returns = returns.mean()\n",
    "cov_matrix = returns.cov()\n",
    "num_portfolios = 25000\n",
    "risk_free_rate = 0.0178"
   ]
  },
  {
   "cell_type": "code",
   "execution_count": 11,
   "metadata": {},
   "outputs": [],
   "source": [
    "import scipy.optimize as sco\n",
    "\n",
    "def display_simulated_ef_with_random(mean_returns, cov_matrix, num_portfolios, risk_free_rate):\n",
    "    results, weights = random_portfolios(num_portfolios,mean_returns, cov_matrix, risk_free_rate)\n",
    "\n",
    "    max_sharpe = max_sharpe_ratio(mean_returns, cov_matrix, risk_free_rate)\n",
    "    sdp, rp = portfolio_annualised_performance(max_sharpe['x'], mean_returns, cov_matrix)\n",
    "    max_sharpe_allocation = pd.DataFrame(max_sharpe.x,index=all_close.columns,columns=['allocation'])\n",
    "    max_sharpe_allocation.allocation = [round(i*100,2)for i in max_sharpe_allocation.allocation]\n",
    "    max_sharpe_allocation = max_sharpe_allocation.T\n",
    "    \n",
    "    min_vol = min_variance(mean_returns, cov_matrix)\n",
    "    sdp_min, rp_min = portfolio_annualised_performance(min_vol['x'], mean_returns, cov_matrix)\n",
    "    min_vol_allocation = pd.DataFrame(min_vol.x,index=all_close.columns,columns=['allocation'])\n",
    "    min_vol_allocation.allocation = [round(i*100,2)for i in min_vol_allocation.allocation]\n",
    "    min_vol_allocation = min_vol_allocation.T\n",
    "    \n",
    "    l2_regularized_idx = np.argmax(results[2])\n",
    "    sdp1, rp1 = results[0,l2_regularized_idx], results[1,l2_regularized_idx]\n",
    "    l2_regularized_allocation = pd.DataFrame(weights[l2_regularized_idx],index=all_close.columns,columns=['allocation'])\n",
    "    l2_regularized_allocation.allocation = [round(i*100,2)for i in l2_regularized_allocation.allocation]\n",
    "    l2_regularized_allocation = l2_regularized_allocation.T\n",
    "    \n",
    "    litterman_idx = np.argmin(results[0])\n",
    "    sdp_min1, rp_min1 = results[0,litterman_idx], results[1,litterman_idx]\n",
    "    litterman_allocation = pd.DataFrame(weights[litterman_idx],index=all_close.columns,columns=['allocation'])\n",
    "    litterman_allocation.allocation = [round(i*100,2)for i in litterman_allocation.allocation]\n",
    "    litterman_allocation = litterman_allocation.T\n",
    "    \n",
    "    an_vol = np.std(returns) * np.sqrt(252)\n",
    "    an_rt = mean_returns * 252\n",
    "    \n",
    "    print(\"-\"*80)\n",
    "    print(\"Maximum Sharpe Ratio Portfolio Allocation\\n\") \n",
    "    print(\"Annualised Return:\", round(rp,2)) \n",
    "    print(\"Annualised Volatility:\", round(sdp,2)) \n",
    "    print(\"\\n\") \n",
    "    print(max_sharpe_allocation) \n",
    "    print(\"-\"*80) \n",
    "    print(\"Minimum Volatility Portfolio Allocation\\n\") \n",
    "    print(\"Annualised Return:\", round(rp_min1,2)) \n",
    "    print(\"Annualised Volatility:\", round(sdp_min1,2)) \n",
    "    print(\"\\n\") \n",
    "    print(min_vol_allocation) \n",
    "    print(\"-\"*80) \n",
    "    print(\"Minimum Volatility Portfolio With L2 Norm Allocation\\n\") \n",
    "    print(\"Annualised Return:\", round(rp1,2)) \n",
    "    print(\"Annualised Volatility:\", round(sdp1,2)) \n",
    "    print(\"\\n\") \n",
    "    print(l2_regularized_allocation) \n",
    "    print(\"-\"*80) \n",
    "    print(\"Black-Litterman Allocation\\n\") \n",
    "    print(\"Annualised Return:\", round(rp_min1,2)) \n",
    "    print(\"Annualised Volatility:\", round(sdp_min1,2)) \n",
    "    print(\"\\n\") \n",
    "    print(litterman_allocation) \n",
    "    \n",
    "    fig, ax = plt.subplots(figsize=(10, 7))\n",
    "    ax.scatter(an_vol,an_rt,marker='o',s=100)\n",
    "\n",
    "    for i, txt in enumerate(all_close.columns):\n",
    "        ax.annotate(txt, (an_vol[i],an_rt[i]), xytext=(10,0), textcoords='offset points')\n",
    "    ax.scatter(sdp,rp,marker='.',color='r',s=300, label='Maximum Sharpe Ratio')\n",
    "    ax.scatter(sdp_min,rp_min,marker='.',color='b',s=300, label='Minimum Volatility')\n",
    "    ax.scatter(sdp1,rp1,marker='.',color='y',s=300, label='Minimum Volatility with $L2$ Norm')\n",
    "    ax.scatter(sdp_min1,rp_min1,marker='.',color='g',s=300, label='Black-Litterman Allocation')\n",
    "\n",
    "    target = np.linspace(rp_min, 2.85, num=100)\n",
    "\n",
    "    efficient_portfolios = efficient_frontier(mean_returns, cov_matrix, target)\n",
    "    ax.plot([p['fun'] for p in efficient_portfolios], target, linestyle='--', color='black', label='efficient frontier')\n",
    "    ax.set_title('Portfolio Optimization with Individual Stocks')\n",
    "    ax.set_xlabel('annualised volatility')\n",
    "    ax.set_ylabel('annualised returns')\n",
    "    ax.legend(labelspacing=0.8)"
   ]
  },
  {
   "cell_type": "code",
   "execution_count": 12,
   "metadata": {},
   "outputs": [
    {
     "name": "stdout",
     "output_type": "stream",
     "text": [
      "--------------------------------------------------------------------------------\n",
      "Maximum Sharpe Ratio Portfolio Allocation\n",
      "\n",
      "Annualised Return: 2.26\n",
      "Annualised Volatility: 0.38\n",
      "\n",
      "\n",
      "            TWTR   TSLA  AAPL   FB  GOOGL  BABA  NFLX  AMZN   BIDU  NVDA\n",
      "allocation   9.8  37.49   0.0  0.0   4.18   0.0   0.0   0.0  48.53   0.0\n",
      "--------------------------------------------------------------------------------\n",
      "Minimum Volatility Portfolio Allocation\n",
      "\n",
      "Annualised Return: 0.65\n",
      "Annualised Volatility: 0.24\n",
      "\n",
      "\n",
      "            TWTR  TSLA  AAPL   FB  GOOGL   BABA   NFLX  AMZN   BIDU  NVDA\n",
      "allocation  9.07  1.44   0.0  0.0  50.02  11.62  16.88   0.0  10.97   0.0\n",
      "--------------------------------------------------------------------------------\n",
      "Minimum Volatility Portfolio With L2 Norm Allocation\n",
      "\n",
      "Annualised Return: 1.65\n",
      "Annualised Volatility: 0.32\n",
      "\n",
      "\n",
      "             TWTR  TSLA  AAPL    FB  GOOGL  BABA  NFLX  AMZN   BIDU  NVDA\n",
      "allocation  16.87  29.4  1.64  3.28   14.0  0.23  2.47  1.51  25.24  5.35\n",
      "--------------------------------------------------------------------------------\n",
      "Black-Litterman Allocation\n",
      "\n",
      "Annualised Return: 0.65\n",
      "Annualised Volatility: 0.24\n",
      "\n",
      "\n",
      "            TWTR  TSLA  AAPL    FB  GOOGL   BABA   NFLX   AMZN   BIDU  NVDA\n",
      "allocation  11.4  3.39  2.02  2.46  27.27  10.81  16.45  10.96  14.08  1.16\n"
     ]
    },
    {
     "data": {
      "image/png": "[encoded data removed]",
      "text/plain": [
       "<Figure size 720x504 with 1 Axes>"
      ]
     },
     "metadata": {
      "needs_background": "light"
     },
     "output_type": "display_data"
    }
   ],
   "source": [
    "display_simulated_ef_with_random(mean_returns, cov_matrix, \n",
    "                                 num_portfolios, risk_free_rate)"
   ]
  },
  {
   "cell_type": "code",
   "execution_count": null,
   "metadata": {},
   "outputs": [],
   "source": []
  }
 ],
 "metadata": {
  "kernelspec": {
   "display_name": "Python 3",
   "language": "python",
   "name": "python3"
  },
  "language_info": {
   "codemirror_mode": {
    "name": "ipython",
    "version": 3
   },
   "file_extension": ".py",
   "mimetype": "text/x-python",
   "name": "python",
   "nbconvert_exporter": "python",
   "pygments_lexer": "ipython3",
   "version": "3.7.6"
  }
 },
 "nbformat": 4,
 "nbformat_minor": 4
}
